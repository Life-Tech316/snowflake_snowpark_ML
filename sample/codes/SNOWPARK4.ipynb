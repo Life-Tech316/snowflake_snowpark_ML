{
 "cells": [
  {
   "cell_type": "code",
   "execution_count": 1,
   "id": "efed4972-9500-4dcc-8ea8-d6b2be5be97b",
   "metadata": {
    "language": "python",
    "name": "cell4"
   },
   "outputs": [
    {
     "name": "stderr",
     "output_type": "stream",
     "text": [
      "/Users/takuma.nishizuka/miniforge3/envs/snowparkml/lib/python3.10/site-packages/snowflake/snowpark/session.py:20: UserWarning: pkg_resources is deprecated as an API. See https://setuptools.pypa.io/en/latest/pkg_resources.html. The pkg_resources package is slated for removal as early as 2025-11-30. Refrain from using this package or pin to Setuptools<81.\n",
      "  import pkg_resources\n"
     ]
    }
   ],
   "source": [
    "from snowflake.snowpark import Session\n",
    "from snowflake.snowpark.functions import upper, col, avg\n",
    "from snowflake.snowpark.types import StringType\n",
    "from snowflake.snowpark.context import get_active_session\n",
    "from snowflake.ml.modeling.preprocessing import StandardScaler\n",
    "from snowflake.ml.modeling.xgboost import XGBClassifier\n",
    "from snowflake.ml.modeling.pipeline import Pipeline\n",
    "from snowflake.snowpark.functions import when, col\n"
   ]
  },
  {
   "cell_type": "code",
   "execution_count": null,
   "id": "16d824f6-1b3b-450e-82b9-c14044bf343e",
   "metadata": {
    "codeCollapsed": false,
    "language": "python",
    "name": "cell5"
   },
   "outputs": [],
   "source": [
    "# 1つめのストアドプロシージャ\n",
    "# cleaningする\n",
    "\n",
    "def sproc_clean_customer_data(session: Session) -> str:\n",
    "    df = session.table(\"SUSTOMER_DATA_1000\")\n",
    "    df_clean = (\n",
    "        df.dropna().with_column(\"GENDER\", upper(col(\"GENDER\")))\n",
    "    )\n",
    "    df_clean.write.mode(\"overwrite\")\\\n",
    "        .save_as_table(\"CUSTOMER_CLEAN\")\n",
    "\n",
    "    return \"updated\"\n"
   ]
  },
  {
   "cell_type": "code",
   "execution_count": null,
   "id": "7632e837-6d2d-4f2a-8d20-8ead7ce78713",
   "metadata": {
    "codeCollapsed": false,
    "language": "python",
    "name": "cell1"
   },
   "outputs": [],
   "source": [
    "# 1つめのストアドプロシージャ\n",
    "# sp登録\n",
    "\n",
    "session.sproc.register(\n",
    "    func = sproc_clean_customer_data,\n",
    "    name = \"SP_CLEAN_CUSTOMER_DATA\",\n",
    "    package = [\"snowflake-snowpark-python\"],\n",
    "    input_type = [],\n",
    "    return_type = StringType(),\n",
    "    is_permanent = True,\n",
    "    stage_location = \"@SPROC_STAGE\",\n",
    "    replace = True\n",
    ")"
   ]
  },
  {
   "cell_type": "code",
   "execution_count": null,
   "id": "6ee6ac91-e4ed-4e53-9589-d010e44dad29",
   "metadata": {
    "codeCollapsed": false,
    "language": "python",
    "name": "cell3"
   },
   "outputs": [],
   "source": [
    "# 2) モデリングをするストアドプロシージャ\n",
    "def sproc_train_churn_model(session: Session) -> str:\n",
    "    df = session.table(\"CUSTOMER_CLEAN\")\n",
    "    \n",
    "    # GENDERを数値化（例: M=1, F=0）\n",
    "    df = df.with_column(\n",
    "        \"GENDER\",\n",
    "        when(col(\"GENDER\") == \"M\", 1).when(col(\"GENDER\") == \"F\", 0).otherwise(None)\n",
    "    )\n",
    "    train_df, test_df = df.random_split([0.8, 0.2], seed=1)\n",
    "    scl = StandardScaler(\n",
    "        input_cols=[\"AGE\", \"ANNUAL_INCOME\"],\n",
    "        output_cols=[\"AGE\", \"ANNUAL_INCOME\"],\n",
    "        passthrough_cols=[\"GENDER\", \"CHURN\"],\n",
    "        drop_input_cols=True\n",
    "    )\n",
    "    clf = XGBClassifier(\n",
    "        input_cols=[\"AGE\", \"ANNUAL_INCOME\", \"GENDER\"],\n",
    "        label_cols=[\"CHURN\"],\n",
    "        output_cols=[\"PREDICTED_CHURN\"],\n",
    "    )\n",
    "    pipeline = Pipeline(steps=[(\"scl\", scl), (\"clf\", clf)])\n",
    "    model = pipeline.fit(train_df)\n",
    "    pred_df = model.predict(test_df).select(\n",
    "        \"ID\", \"GENDER\", \"CHURN\", \"PREDICTED_CHURN\"\n",
    "    )\n",
    "\n",
    "    pred_df.write.mode(\"overwrite\").save_as_table(\"CUSTOMER_PREDICTION\")\n",
    "\n",
    "    return \"updated\""
   ]
  },
  {
   "cell_type": "code",
   "execution_count": null,
   "id": "93412753-bc49-4d96-92ec-18328009abb6",
   "metadata": {
    "codeCollapsed": false,
    "language": "python",
    "name": "cell7"
   },
   "outputs": [],
   "source": [
    "# 2) モデリングをするストアドプロシージャ\n",
    "# sp登録\n",
    "session.sproc.register(\n",
    "    func = sproc_train_churn_model,\n",
    "    name = \"SP_TRAIN_CHURN_MODEL\",\n",
    "    packages = [\"snowflake-snowpark-python\", \"snowflake-ml-python\"],\n",
    "    input_types = [],\n",
    "    return_type = StringType(),\n",
    "    is_permanent = True,\n",
    "    stage_location = \"@SPROC_STAGE\",\n",
    "    replace = True,\n",
    "    execute_as_owner = True\n",
    ")"
   ]
  },
  {
   "cell_type": "code",
   "execution_count": null,
   "id": "9dc4eb03-133f-41cc-8cad-7ca20d6df0db",
   "metadata": {
    "codeCollapsed": false,
    "language": "sql",
    "name": "cell8",
    "vscode": {
     "languageId": "sql"
    }
   },
   "outputs": [],
   "source": [
    "create or replace task task1_clean\n",
    "    warehouse = 'TAKUMA_NISHIZUKA_WH'\n",
    "    schedule = 'using cron 37 18 * * * Asia/Tokyo'\n",
    "as call SP_CLEAN_CUSTOMER_DATA();"
   ]
  },
  {
   "cell_type": "code",
   "execution_count": null,
   "id": "a7df812a-25f5-4d75-ad85-286795520713",
   "metadata": {
    "codeCollapsed": false,
    "language": "sql",
    "name": "cell9"
   },
   "outputs": [],
   "source": [
    "create or replace task task2_model\n",
    "    warehouse = 'TAKUMA_NISHIZUKA_WH'\n",
    "    after task1_clean\n",
    "as call SP_TRAIN_CHURN_MODEL();"
   ]
  },
  {
   "cell_type": "code",
   "execution_count": null,
   "id": "b93d89d0-2933-4a7c-a767-199b50bd726b",
   "metadata": {
    "language": "sql",
    "name": "cell15"
   },
   "outputs": [],
   "source": [
    "alter task task1_clean suspend;\n",
    "alter task task2_model suspend;\n"
   ]
  },
  {
   "cell_type": "code",
   "execution_count": null,
   "id": "af1268ab-6905-4093-a560-6ebb103e337f",
   "metadata": {
    "codeCollapsed": false,
    "language": "sql",
    "name": "cell10"
   },
   "outputs": [],
   "source": [
    "alter task task2_model resume;"
   ]
  },
  {
   "cell_type": "code",
   "execution_count": null,
   "id": "52f8ec6c-6f29-4297-bad8-186373aac81e",
   "metadata": {
    "codeCollapsed": false,
    "language": "sql",
    "name": "cell12"
   },
   "outputs": [],
   "source": [
    "alter task task1_clean resume;"
   ]
  },
  {
   "cell_type": "code",
   "execution_count": null,
   "id": "34d3d91c-966d-46dc-b4a8-4bedc3719056",
   "metadata": {
    "codeCollapsed": false,
    "language": "sql",
    "name": "cell13"
   },
   "outputs": [],
   "source": [
    "select * from CUSTOMER_PREDICTION;"
   ]
  },
  {
   "cell_type": "code",
   "execution_count": null,
   "id": "e22e49b0-993f-4b9a-b04d-2471ade1b6d1",
   "metadata": {
    "codeCollapsed": false,
    "language": "sql",
    "name": "cell14"
   },
   "outputs": [],
   "source": []
  },
  {
   "cell_type": "code",
   "execution_count": null,
   "id": "b466a065-c1a4-4f1e-8242-ad68f489aba5",
   "metadata": {
    "codeCollapsed": false,
    "language": "python",
    "name": "cell11"
   },
   "outputs": [],
   "source": []
  }
 ],
 "metadata": {
  "kernelspec": {
   "display_name": "snowparkml",
   "language": "python",
   "name": "python3"
  },
  "language_info": {
   "codemirror_mode": {
    "name": "ipython",
    "version": 3
   },
   "file_extension": ".py",
   "mimetype": "text/x-python",
   "name": "python",
   "nbconvert_exporter": "python",
   "pygments_lexer": "ipython3",
   "version": "3.10.18"
  },
  "lastEditStatus": {
   "authorEmail": "takuma.nishizuka@datumstudio.jp",
   "authorId": "5705655269554",
   "authorName": "takuma.nishizuka@datumstudio.jp",
   "lastEditTime": 1753955092575,
   "notebookId": "73fl4wjcs67ipbdyhtfc",
   "sessionId": "5ab74c56-1579-4437-9571-182764eb58ab"
  }
 },
 "nbformat": 4,
 "nbformat_minor": 5
}
