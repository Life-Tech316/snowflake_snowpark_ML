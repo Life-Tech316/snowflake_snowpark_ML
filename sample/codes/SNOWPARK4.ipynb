{
 "metadata": {
  "kernelspec": {
   "display_name": "Streamlit Notebook",
   "name": "streamlit"
  },
  "lastEditStatus": {
   "notebookId": "qwmtnqvkxstyfg3j6qib",
   "authorId": "45639075514",
   "authorName": "SATOSHI",
   "authorEmail": "satoshi.oimatsu@gmail.com",
   "sessionId": "a71f3a7b-5cff-4dc4-b38c-8fabb75efe1a",
   "lastEditTime": 1747969042450
  }
 },
 "nbformat_minor": 5,
 "nbformat": 4,
 "cells": [
  {
   "cell_type": "code",
   "id": "ced62dba-b64c-4bb6-bd05-e608365c08cf",
   "metadata": {
    "language": "python",
    "name": "cell1"
   },
   "outputs": [],
   "source": "from snowflake.snowpark import Session\nfrom snowflake.snowpark.functions import upper, col, avg\nfrom snowflake.snowpark.types import StringType\nfrom snowflake.snowpark.context import get_active_session\n\nfrom snowflake.ml.modeling.preprocessing import StandardScaler, OrdinalEncoder\nfrom snowflake.ml.modeling.xgboost import XGBClassifier\nfrom snowflake.ml.modeling.pipeline import Pipeline",
   "execution_count": null
  },
  {
   "cell_type": "code",
   "id": "18121cdc-e17a-4c97-ab34-49d3c7a8329e",
   "metadata": {
    "language": "python",
    "name": "cell2",
    "codeCollapsed": false
   },
   "outputs": [],
   "source": "session = get_active_session()",
   "execution_count": null
  },
  {
   "cell_type": "code",
   "id": "8582cd97-84c1-4d2f-957e-b81ef2360ff8",
   "metadata": {
    "language": "sql",
    "name": "cell3"
   },
   "outputs": [],
   "source": "CREATE OR REPLACE STAGE SPROC_STAGE;",
   "execution_count": null
  },
  {
   "cell_type": "code",
   "id": "7dc31a1f-5bcb-4c61-9cfc-2f78e0ea3318",
   "metadata": {
    "language": "python",
    "name": "cell4"
   },
   "outputs": [],
   "source": "# 1つめのストアドプロシージャ\n# cleaningする\n\ndef sproc_clean_customer_data(session: Session) -> str:\n    df = session.table(\"CUSTOMER_DATA_1000\")\n    df_clean = (\n        df.dropna().with_column(\"GENDER\", upper(col(\"GENDER\")))\n    )\n    df_clean.write.mode(\"overwrite\")\\\n        .save_as_table(\"CUSTOMER_CLEAN\")\n\n    return \"updated\"\n    ",
   "execution_count": null
  },
  {
   "cell_type": "code",
   "id": "b5c648b9-8d33-4d52-9a91-d45d9e92b46c",
   "metadata": {
    "language": "python",
    "name": "cell5",
    "codeCollapsed": false
   },
   "outputs": [],
   "source": "session.sproc.register(\n    func = sproc_clean_customer_data,\n    name = \"SP_CLEAN_CUSTOMER_DATA\",\n    packages = [\"snowflake-snowpark-python\"],\n    input_types = [],\n    return_type = StringType(),\n    is_permanent=True,\n    stage_location=\"@SPROC_STAGE\",\n    replace=True\n)",
   "execution_count": null
  },
  {
   "cell_type": "code",
   "id": "5d657519-2f6a-4e5b-aa01-60951b7a8eb0",
   "metadata": {
    "language": "python",
    "name": "cell6",
    "codeCollapsed": false
   },
   "outputs": [],
   "source": "# 2)モデリングをするストアドプロシージャ\ndef sproc_train_churn_model(session:Session) -> str:\n    df = session.table(\"CUSTOMER_CLEAN\")\n    train_df, test_df = df.random_split([0.8,0.2],seed=1)\n\n    scl = StandardScaler(\n        input_cols=[\"AGE\",\"ANNUAL_INCOME\"],\n        output_cols=[\"AGE\",\"ANNUAL_INCOME\"],\n        passthrough_cols=[\"GENDER\",\"CHURN\"],\n        drop_input_cols=True\n    )\n\n    enc = OrdinalEncoder(\n        input_cols = [\"GENDER\"],\n        output_cols = [\"GENDER_CODE\"],\n        passthrough_cols=[\"AGE\",\"ANNUAL_INCOME\",\"CHURN\"],\n        drop_input_cols=True\n    )\n\n    clf = XGBClassifier(\n        input_cols=[\"AGE\",\"ANNUAL_INCOME\",\"GENDER_CODE\"],\n        label_cols=[\"CHURN\"],\n        output_cols=[\"PREDICTED_CHURN\"],\n    )\n\n    pipeline = Pipeline(steps=[(\"scl\",scl),(\"enc\",enc),(\"clf\",clf)])\n\n    model = pipeline.fit(train_df)\n\n    pred_df = model.predict(test_df).select(\n        \"ID\",\"GENDER_CODE\",\"CHURN\",\"PREDICTED_CHURN\"\n    )\n\n    pred_df.write.mode(\"overwrite\").save_as_table(\"CUSTOMER_PREDICTION\")\n\n    return \"updated\"",
   "execution_count": null
  },
  {
   "cell_type": "code",
   "id": "50d4d49d-a803-4a95-89c0-7ccdebb5163e",
   "metadata": {
    "language": "python",
    "name": "cell7",
    "codeCollapsed": false
   },
   "outputs": [],
   "source": "session.sproc.register(\n    func = sproc_train_churn_model,\n    name = \"SP_TRAIN_CHURN_MODEL\",\n    packages = [\"snowflake-snowpark-python\", \"snowflake-ml-python\"],\n    input_types = [],\n    return_type = StringType(),\n    is_permanent=True,\n    stage_location=\"@SPROC_STAGE\",\n    replace=True,\n    execute_as_owner=True    \n)",
   "execution_count": null
  },
  {
   "cell_type": "code",
   "id": "836e4472-c8c2-42a9-9149-84638875c656",
   "metadata": {
    "language": "sql",
    "name": "cell8",
    "codeCollapsed": false
   },
   "outputs": [],
   "source": "CREATE OR REPLACE TASK TASK1_CLEAN\n    WAREHOUSE = 'SAMPLE_WH'\n    SCHEDULE = 'USING CRON 55 11 * * * Asia/Tokyo'\nAS CALL SP_CLEAN_CUSTOMER_DATA();",
   "execution_count": null
  },
  {
   "cell_type": "code",
   "id": "c3eb96d2-67ab-49cf-857b-27c8de9c75d9",
   "metadata": {
    "language": "sql",
    "name": "cell9",
    "codeCollapsed": false
   },
   "outputs": [],
   "source": "CREATE OR REPLACE TASK TASK2_MODEL\n    WAREHOUSE = 'SAMPLE_WH'\n    AFTER TASK1_CLEAN\nAS CALL SP_TRAIN_CHURN_MODEL();",
   "execution_count": null
  },
  {
   "cell_type": "code",
   "id": "fea5989f-07a5-4427-a7c6-62605ae44e0c",
   "metadata": {
    "language": "sql",
    "name": "cell13",
    "codeCollapsed": false
   },
   "outputs": [],
   "source": "ALTER TASK TASK1_CLEAN SUSPEND;",
   "execution_count": null
  },
  {
   "cell_type": "code",
   "id": "47d1884b-c363-4d73-aa57-7e22ae744727",
   "metadata": {
    "language": "sql",
    "name": "cell14",
    "codeCollapsed": false
   },
   "outputs": [],
   "source": "ALTER TASK TASK2_MODEL SUSPEND;",
   "execution_count": null
  },
  {
   "cell_type": "code",
   "id": "82f5c593-9dfb-4051-b78e-d114e3f9e93a",
   "metadata": {
    "language": "sql",
    "name": "cell11",
    "codeCollapsed": false
   },
   "outputs": [],
   "source": "ALTER TASK TASK2_MODEL RESUME;",
   "execution_count": null
  },
  {
   "cell_type": "code",
   "id": "6116c54a-e3e7-434d-873b-ac20924058dd",
   "metadata": {
    "language": "sql",
    "name": "cell10",
    "codeCollapsed": false
   },
   "outputs": [],
   "source": "ALTER TASK TASK1_CLEAN RESUME;",
   "execution_count": null
  },
  {
   "cell_type": "code",
   "id": "06d0bbc4-d639-4d99-8366-4b6fd4285840",
   "metadata": {
    "language": "sql",
    "name": "cell16",
    "codeCollapsed": false
   },
   "outputs": [],
   "source": "select * from CUSTOMER_PREDICTION;",
   "execution_count": null
  },
  {
   "cell_type": "code",
   "id": "a4cebefe-d77b-4525-a7a5-7a7e7e66f186",
   "metadata": {
    "language": "sql",
    "name": "cell12"
   },
   "outputs": [],
   "source": "",
   "execution_count": null
  }
 ]
}