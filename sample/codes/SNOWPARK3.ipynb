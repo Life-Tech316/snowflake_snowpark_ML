{
 "metadata": {
  "kernelspec": {
   "display_name": "Streamlit Notebook",
   "name": "streamlit"
  },
  "lastEditStatus": {
   "notebookId": "koraumv7c5yzpdibnhht",
   "authorId": "45639075514",
   "authorName": "SATOSHI",
   "authorEmail": "satoshi.oimatsu@gmail.com",
   "sessionId": "3420d38d-e39f-4342-9aef-94f00d7a616b",
   "lastEditTime": 1747962659170
  }
 },
 "nbformat_minor": 5,
 "nbformat": 4,
 "cells": [
  {
   "cell_type": "markdown",
   "id": "d039e601-6fdc-45ab-9483-a9756dd05ad8",
   "metadata": {
    "name": "cell1",
    "collapsed": false
   },
   "source": "## ストアドプロシージャの作成"
  },
  {
   "cell_type": "code",
   "id": "5ce1160b-b348-4336-b886-c69f0a5ee037",
   "metadata": {
    "language": "python",
    "name": "cell2"
   },
   "outputs": [],
   "source": "from snowflake.snowpark import Session\nfrom snowflake.snowpark.functions import col, upper, count, avg",
   "execution_count": null
  },
  {
   "cell_type": "code",
   "id": "96708d4e-abf4-4579-b2de-39790f5bef42",
   "metadata": {
    "language": "python",
    "name": "cell3"
   },
   "outputs": [],
   "source": "# データの読み込み\n# クレンジング\n# 簡単な集計\n# 集計結果のテーブルへの書き込み\n\ndef sproc_etl_customer_summary(\n    session:Session,\n    raw_table: str,\n    summary_table: str\n):\n    # 1)データの読み込み\n    df_raw = session.table(raw_table)\n\n    # 2) クレンジング\n    df_clean = (df_raw.dropna().with_column(\"GENDER\", upper(col(\"GENDER\"))))\n\n    # 3) 集計\n    df_summary = (\n        df_clean.group_by(col(\"GENDER\"), col(\"CHURN\"))\n        .agg(\n            count(col(\"ID\")).alias(\"COUNT\"),\n            avg(col(\"AGE\")).alias(\"AVG_AGE\"),\n            avg(col(\"ANNUAL_INCOME\")).alias(\"AVG_INCOME\")\n        )\n    )\n\n    # 4)結果の上書き格納\n    df_summary.write.mode(\"overwrite\")\\\n        .save_as_table(summary_table)\n\n    return \"updated\"\n\n",
   "execution_count": null
  },
  {
   "cell_type": "code",
   "id": "ac731264-db74-43ee-8ab6-79fd4d4c13ee",
   "metadata": {
    "language": "python",
    "name": "cell4",
    "codeCollapsed": false
   },
   "outputs": [],
   "source": "from snowflake.snowpark.context import get_active_session\nfrom snowflake.snowpark.types import StringType\n\nsession = get_active_session()\n\nsession.sproc.register(\n    func = sproc_etl_customer_summary,\n    name = \"SP_ETL_CUSTOMER_SUMMARY\",\n    package = [\"snowflake-snowpark-python\"],\n    input_types = [StringType(), StringType()],\n    return_type = StringType(),\n    replace = True,\n)",
   "execution_count": null
  },
  {
   "cell_type": "code",
   "id": "ab64a83d-3d23-4397-a326-0209ceff5c4a",
   "metadata": {
    "language": "sql",
    "name": "cell5",
    "codeCollapsed": false
   },
   "outputs": [],
   "source": "CREATE OR REPLACE TABLE CUSTOMER_SUMMARY(\n    GENDER STRING,\n    CHURN NUMBER,\n    COUNT NUMBER,\n    AVG_AGE FLOAT,\n    AVG_INCOME FLOAT\n);",
   "execution_count": null
  },
  {
   "cell_type": "code",
   "id": "148c92a6-c016-4dc6-9568-ef2c74d10299",
   "metadata": {
    "language": "sql",
    "name": "cell6",
    "codeCollapsed": false
   },
   "outputs": [],
   "source": "-- ストアドプロシージャの呼び出し\nCALL SP_ETL_CUSTOMER_SUMMARY(\n    'CUSTOMER_DATA_1000',\n    'CUSTOMER_SUMMARY'\n)",
   "execution_count": null
  },
  {
   "cell_type": "code",
   "id": "adf4fe09-339c-40de-a0e8-9950f5c9b954",
   "metadata": {
    "language": "sql",
    "name": "cell7",
    "codeCollapsed": false
   },
   "outputs": [],
   "source": "select * from CUSTOMER_SUMMARY;",
   "execution_count": null
  }
 ]
}