{
 "metadata": {
  "kernelspec": {
   "display_name": "Streamlit Notebook",
   "name": "streamlit"
  },
  "lastEditStatus": {
   "notebookId": "qsv6vza3d4abvaobajzd",
   "authorId": "45639075514",
   "authorName": "SATOSHI",
   "authorEmail": "satoshi.oimatsu@gmail.com",
   "sessionId": "0dec7745-816e-46bf-bd35-26867643020a",
   "lastEditTime": 1747882432395
  }
 },
 "nbformat_minor": 5,
 "nbformat": 4,
 "cells": [
  {
   "cell_type": "code",
   "id": "65254275-6dad-44d8-aecc-8d403d03b2f5",
   "metadata": {
    "language": "python",
    "name": "cell1"
   },
   "outputs": [],
   "source": "from snowflake.snowpark.context import get_active_session\nsession = get_active_session()",
   "execution_count": null
  },
  {
   "cell_type": "code",
   "id": "cb62eb8c-b099-4d94-b4ef-36c0fec4a0aa",
   "metadata": {
    "language": "python",
    "name": "cell2"
   },
   "outputs": [],
   "source": "df = session.table(\"CUSTOMER_DATA_1000\")\ndf",
   "execution_count": null
  },
  {
   "cell_type": "code",
   "id": "a71d8d24-7b42-4ee2-a50b-abd489090034",
   "metadata": {
    "language": "python",
    "name": "cell4"
   },
   "outputs": [],
   "source": "train_df, test_df = df.random_split([0.8, 0.2], seed=42)\nprint(train_df.count(), test_df.count())",
   "execution_count": null
  },
  {
   "cell_type": "code",
   "id": "01870bb4-5892-4be2-9326-f6a7dbf0a323",
   "metadata": {
    "language": "python",
    "name": "cell5"
   },
   "outputs": [],
   "source": "from snowflake.ml.modeling.impute import SimpleImputer\nfrom snowflake.ml.modeling.preprocessing import StandardScaler, OrdinalEncoder\nfrom snowflake.ml.modeling.xgboost import XGBClassifier\nfrom snowflake.ml.modeling.pipeline import Pipeline",
   "execution_count": null
  },
  {
   "cell_type": "code",
   "id": "43f00ba8-2699-4744-942e-a3b97ce59258",
   "metadata": {
    "language": "python",
    "name": "cell3",
    "codeCollapsed": false
   },
   "outputs": [],
   "source": "# 補完（数値）AGE, ANNUAL_INCOME\nnumeric_imputer = SimpleImputer(\n    strategy = \"median\",\n    input_cols = [\"AGE\", \"ANNUAL_INCOME\"],\n    output_cols = [\"AGE\", \"ANNUAL_INCOME\"],\n    passthrough_cols = [\"GENDER\", \"CHURN\"],\n    drop_input_cols = True\n)\n\n# 補完（文字列）GENDER\ncategorical_imputer = SimpleImputer(\n    strategy = \"most_frequent\",\n    input_cols = [\"GENDER\"],\n    output_cols = [\"GENDER\"],\n    passthrough_cols = [\"AGE\", \"ANNUAL_INCOME\", \"CHURN\"],\n    drop_input_cols = True \n)\n\n# encoding GENDER\nencoder = OrdinalEncoder(\n    input_cols = [\"GENDER\"],\n    output_cols = [\"GENDER_code\"],\n    passthrough_cols = [\"AGE\", \"ANNUAL_INCOME\", \"CHURN\"],\n    drop_input_cols = True\n)\n\n# scaler AGE income\nscaler = StandardScaler(\n    input_cols = [\"AGE\", \"ANNUAL_INCOME\"],\n    output_cols = [\"AGE\", \"ANNUAL_INCOME\"],\n    passthrough_cols = [\"GENDER_CODE\", \"CHURN\"],\n    drop_input_cols = True \n)\n\n# modeling\nxgb = XGBClassifier(\n    input_cols = [\"AGE\", \"ANNUAL_INCOME\", \"GENDER_CODE\"],\n    label_cols = [\"CHURN\"],\n    output_cols = [\"PREDICTED_CHURN\"]\n)\n\npipeline = Pipeline(steps=[\n    (\"num_imputer\", numeric_imputer),\n    (\"cat_imputer\", categorical_imputer),\n    (\"encoder\", encoder),\n    (\"scaler\", scaler),\n    (\"classifier\", xgb)\n])\n\nmodel = pipeline.fit(train_df)",
   "execution_count": null
  },
  {
   "cell_type": "code",
   "id": "2489801e-b52d-4e3c-91fb-4d7d2d325297",
   "metadata": {
    "language": "python",
    "name": "cell6",
    "codeCollapsed": false
   },
   "outputs": [],
   "source": "pred = model.predict(test_df)\npred.select(\"ID\", \"AGE\", \"GENDER_CODE\",\"ANNUAL_INCOME\",\"CHURN\",\"PREDICTED_CHURN\")",
   "execution_count": null
  },
  {
   "cell_type": "code",
   "id": "9aa2b95b-089b-4878-8d9d-cd002dd169a3",
   "metadata": {
    "language": "python",
    "name": "cell7"
   },
   "outputs": [],
   "source": "pred.show()",
   "execution_count": null
  },
  {
   "cell_type": "code",
   "id": "501e7347-adcd-44d2-8dc1-a9a3e2a682bf",
   "metadata": {
    "language": "python",
    "name": "cell8"
   },
   "outputs": [],
   "source": "from sklearn.metrics import confusion_matrix\n\npred_df = pred.to_pandas()\n\ncm = confusion_matrix(pred_df[\"CHURN\"], pred_df[\"PREDICTED_CHURN\"])\nprint(cm)",
   "execution_count": null
  },
  {
   "cell_type": "code",
   "id": "5a51edc5-20a4-4a1a-b678-9f60851f171a",
   "metadata": {
    "language": "sql",
    "name": "cell9"
   },
   "outputs": [],
   "source": "CREATE OR REPLACE DATABASE MY_ML_REGISTRY;\nUSE MY_ML_REGISTRY;\nCREATE OR REPLACE SCHEMA MODELS;",
   "execution_count": null
  },
  {
   "cell_type": "code",
   "id": "553f38a9-8e62-4fce-8a5a-8d0ae5f14242",
   "metadata": {
    "language": "sql",
    "name": "cell10"
   },
   "outputs": [],
   "source": "USE SCHEMA MODELS;",
   "execution_count": null
  },
  {
   "cell_type": "code",
   "id": "bfedfba0-ac59-4d4f-845f-ac8220ee2b5f",
   "metadata": {
    "language": "python",
    "name": "cell11"
   },
   "outputs": [],
   "source": "from snowflake.ml.registry import Registry\n\nregistry = Registry(session = session)\n\nregistry.log_model(\n    model = model,\n    model_name = \"customer_churn_model\",\n    version_name = \"v1\",\n    comment = \"hogehoge\"\n)",
   "execution_count": null
  },
  {
   "cell_type": "code",
   "id": "fd68ff90-d414-4b8b-a442-235a643d2d14",
   "metadata": {
    "language": "python",
    "name": "cell12"
   },
   "outputs": [],
   "source": "",
   "execution_count": null
  }
 ]
}