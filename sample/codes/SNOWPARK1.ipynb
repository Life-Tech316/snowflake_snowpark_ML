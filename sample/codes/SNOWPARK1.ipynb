{
 "cells": [
  {
   "cell_type": "markdown",
   "id": "99518c2b-5974-4c73-9ba5-f90844809fe2",
   "metadata": {
    "collapsed": false,
    "name": "cell4"
   },
   "source": [
    "## snowparkの練習"
   ]
  },
  {
   "cell_type": "code",
   "execution_count": null,
   "id": "229847da-c28b-46a6-86c5-78d34c190f85",
   "metadata": {
    "language": "sql",
    "name": "cell5"
   },
   "outputs": [],
   "source": [
    "SELECT CURRENT_DATABASE() as db, CURRENT_SCHEMA() as schema;"
   ]
  },
  {
   "cell_type": "code",
   "execution_count": null,
   "id": "6cf1e235-5a1a-436b-aa34-2f6996189fdc",
   "metadata": {
    "language": "python",
    "name": "cell6"
   },
   "outputs": [],
   "source": [
    "from snowflake.snowpark.context import get_active_session\n",
    "session = get_active_session()"
   ]
  },
  {
   "cell_type": "code",
   "execution_count": null,
   "id": "e0190370-33ff-447b-94b9-d16614aeef26",
   "metadata": {
    "language": "python",
    "name": "cell7"
   },
   "outputs": [],
   "source": [
    "df = session.table(\"SAMPLE_SALES\")\n",
    "df.dtypes"
   ]
  },
  {
   "cell_type": "code",
   "execution_count": null,
   "id": "f15cfc5e-9191-4128-8192-ade2c242fec0",
   "metadata": {
    "language": "sql",
    "name": "cell8"
   },
   "outputs": [],
   "source": [
    "select * from SAMPLE_SALES;"
   ]
  },
  {
   "cell_type": "code",
   "execution_count": null,
   "id": "9f9cb5eb-3089-46ff-85f4-cd1731c6f12b",
   "metadata": {
    "language": "python",
    "name": "cell9"
   },
   "outputs": [],
   "source": [
    "my_df = cell8.to_pandas()\n",
    "my_df"
   ]
  },
  {
   "cell_type": "code",
   "execution_count": null,
   "id": "deb682df-98fb-47f5-8397-66b27fc73219",
   "metadata": {
    "codeCollapsed": false,
    "language": "python",
    "name": "cell10"
   },
   "outputs": [],
   "source": [
    "df = session.table(\"SAMPLE_SALES\")\n",
    "type(df)"
   ]
  },
  {
   "cell_type": "code",
   "execution_count": null,
   "id": "68b51f4e-4a37-41e7-8bd1-d46310dfbd6d",
   "metadata": {
    "language": "python",
    "name": "cell11"
   },
   "outputs": [],
   "source": [
    "type(df.to_pandas())"
   ]
  },
  {
   "cell_type": "code",
   "execution_count": null,
   "id": "ff9b37ec-24b4-44a2-bee4-00762b44a7e6",
   "metadata": {
    "language": "python",
    "name": "cell12"
   },
   "outputs": [],
   "source": [
    "# フィルタ\n",
    "from snowflake.snowpark.functions import col, lit\n",
    "df.filter(col(\"SALES\") > 1000)"
   ]
  },
  {
   "cell_type": "code",
   "execution_count": null,
   "id": "68c0c783-f37d-467a-afa8-3c21b3e84e9a",
   "metadata": {
    "language": "python",
    "name": "cell13"
   },
   "outputs": [],
   "source": [
    "# 列名の変更\n",
    "df.to_df([\"D\",\"S\"])"
   ]
  },
  {
   "cell_type": "code",
   "execution_count": null,
   "id": "43f4a6df-e4bf-4edd-9ec5-34225ea69de5",
   "metadata": {
    "language": "python",
    "name": "cell14"
   },
   "outputs": [],
   "source": [
    "from snowflake.snowpark.functions import avg, month\n",
    "monthly = df.with_column(\"month\", month(col(\"DATE\")))\\\n",
    "    .group_by(\"month\")\\\n",
    "    .agg(avg(col(\"SALES\")).alias(\"avg_sales\"))"
   ]
  },
  {
   "cell_type": "code",
   "execution_count": null,
   "id": "01e4801c-5449-4329-ba5c-bcb07484c875",
   "metadata": {
    "language": "python",
    "name": "cell15"
   },
   "outputs": [],
   "source": [
    "monthly.write.mode(\"overwrite\")\\\n",
    "    .save_as_table(\"SAMPLE_MONTHLY_SALES\")"
   ]
  },
  {
   "cell_type": "code",
   "execution_count": null,
   "id": "cae3da69-c350-413b-9ca7-c239f3215027",
   "metadata": {
    "language": "sql",
    "name": "cell16"
   },
   "outputs": [],
   "source": [
    "select * from SAMPLE_MONTHLY_SALES;"
   ]
  },
  {
   "cell_type": "code",
   "execution_count": null,
   "id": "9b2a62d2-0e74-43d0-90b1-cfcb56045aaa",
   "metadata": {
    "language": "python",
    "name": "cell17"
   },
   "outputs": [],
   "source": [
    "import pandas as pd\n",
    "upload_df = pd.read_csv(\"sample_sales_100.csv\")\n",
    "upload_df"
   ]
  }
 ],
 "metadata": {
  "kernelspec": {
   "display_name": "Streamlit Notebook",
   "name": "streamlit"
  },
  "lastEditStatus": {
   "authorEmail": "satoshi.oimatsu@gmail.com",
   "authorId": "45639075514",
   "authorName": "SATOSHI",
   "lastEditTime": 1747877996933,
   "notebookId": "3pojfunqm25lwz6m7aht",
   "sessionId": "9ec9ac16-8f05-4db8-8ab1-086fb471752b"
  }
 },
 "nbformat": 4,
 "nbformat_minor": 5
}
